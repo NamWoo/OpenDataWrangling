{
 "cells": [
  {
   "cell_type": "markdown",
   "metadata": {},
   "source": [
    "# 공공데이터 상권정보 분석해 보기\n",
    "* https://www.data.go.kr/dataset/15012005/fileData.do\n",
    "* 국가중점데이터인 상권정보를 살펴봅니다.\n",
    "* 처음으로 파일데이터에서 상권별 업종밀집통계정보를 다운로드 받아봅니다."
   ]
  },
  {
   "cell_type": "markdown",
   "metadata": {},
   "source": [
    "## !중요\n",
    "### 버전과 한글폰트\n",
    "* 한글폰트 사용하기 : http://corazzon.github.io/matplotlib_font_setting"
   ]
  },
  {
   "cell_type": "code",
   "execution_count": null,
   "metadata": {},
   "outputs": [],
   "source": [
    "# 아래의 버전에 의존성이 있습니다. \n",
    "# 다음의 버전으로 설치해 주세요.\n",
    "# !pip install plotnine==0.5.0\n",
    "# !pip install –upgrade pandas==0.23.4\n",
    "# !pip install folium==0.5.0\n",
    "# !pip install statsmodels -U"
   ]
  },
  {
   "cell_type": "code",
   "execution_count": null,
   "metadata": {},
   "outputs": [],
   "source": [
    "import warnings\n",
    "warnings.filterwarnings('ignore')\n",
    "warnings.filterwarnings(\"ignore\", category=UserWarning)"
   ]
  },
  {
   "cell_type": "code",
   "execution_count": null,
   "metadata": {},
   "outputs": [],
   "source": [
    "import pandas as pd\n",
    "from plotnine import *\n",
    "\n",
    "%matplotlib inline"
   ]
  },
  {
   "cell_type": "code",
   "execution_count": null,
   "metadata": {},
   "outputs": [],
   "source": [
    "%ls data/commercial_store/"
   ]
  },
  {
   "cell_type": "markdown",
   "metadata": {},
   "source": [
    "# 2016년 상권별 업종밀집 통계\n",
    "* 상권별 밀집도를 보여준다."
   ]
  },
  {
   "cell_type": "code",
   "execution_count": null,
   "metadata": {},
   "outputs": [],
   "source": [
    "shop = pd.read_csv('data/commercial_store/상권별_업종밀집통계_2016_.csv', \n",
    "                   encoding='cp949', \n",
    "                   engine='python')\n",
    "shop.shape"
   ]
  },
  {
   "cell_type": "code",
   "execution_count": null,
   "metadata": {},
   "outputs": [],
   "source": [
    "shop.head()"
   ]
  },
  {
   "cell_type": "code",
   "execution_count": null,
   "metadata": {},
   "outputs": [],
   "source": [
    "shop.tail()"
   ]
  },
  {
   "cell_type": "code",
   "execution_count": null,
   "metadata": {},
   "outputs": [],
   "source": [
    "shop['대분류명'].value_counts()"
   ]
  },
  {
   "cell_type": "code",
   "execution_count": null,
   "metadata": {},
   "outputs": [],
   "source": [
    "shop['중분류명'].value_counts()"
   ]
  },
  {
   "cell_type": "markdown",
   "metadata": {},
   "source": [
    "# 상가업소정보 2018년 6월"
   ]
  },
  {
   "cell_type": "code",
   "execution_count": null,
   "metadata": {},
   "outputs": [],
   "source": [
    "%ls data/shop_201806"
   ]
  },
  {
   "cell_type": "code",
   "execution_count": null,
   "metadata": {},
   "outputs": [],
   "source": [
    "# 상가업소정보 2018년 6월 데이터\n",
    "shop_2018_01 = pd.read_csv('data/shop_201806/shop_201806_01.csv', \n",
    "                           encoding='cp949', \n",
    "                           engine='python')\n",
    "shop_2018_01.shape"
   ]
  },
  {
   "cell_type": "code",
   "execution_count": null,
   "metadata": {},
   "outputs": [],
   "source": [
    "shop_2018_01.head(3)"
   ]
  },
  {
   "cell_type": "code",
   "execution_count": null,
   "metadata": {},
   "outputs": [],
   "source": [
    "shop_2018_01.tail(3)"
   ]
  },
  {
   "cell_type": "code",
   "execution_count": null,
   "metadata": {},
   "outputs": [],
   "source": [
    "shop_2018_01.columns"
   ]
  },
  {
   "cell_type": "code",
   "execution_count": null,
   "metadata": {},
   "outputs": [],
   "source": [
    "view_columns = ['상호명', '지점명', '상권업종대분류명', '상권업종중분류명',\n",
    "              '상권업종소분류명', '시도명', '시군구명', \n",
    "              '행정동명', '법정동명', '지번주소', '경도', '위도']\n",
    "shop_2018_01[view_columns].head()"
   ]
  },
  {
   "cell_type": "code",
   "execution_count": null,
   "metadata": {},
   "outputs": [],
   "source": [
    "# 생각보다 결측치가 많다.\n",
    "shop_2018_01.isnull().sum()"
   ]
  },
  {
   "cell_type": "code",
   "execution_count": null,
   "metadata": {},
   "outputs": [],
   "source": [
    "import matplotlib.pyplot as plt\n",
    "import seaborn as sns\n",
    "\n",
    "# Window 의 한글 폰트 설정\n",
    "# plt.rc('font',family='Malgun Gothic')\n",
    "# Mac 의 한글 폰트 설정\n",
    "plt.rc('font', family='AppleGothic') "
   ]
  },
  {
   "cell_type": "code",
   "execution_count": null,
   "metadata": {},
   "outputs": [],
   "source": [
    "import missingno as msno\n",
    "\n",
    "msno.matrix(shop_2018_01)"
   ]
  },
  {
   "cell_type": "code",
   "execution_count": null,
   "metadata": {},
   "outputs": [],
   "source": [
    "# 모든 데이터를 한번에 찍으면 너무 오래 걸려서 1000개만 찍어봅니다.\n",
    "# 양쪽에 데이터가 몰려있는데 왜 그런지 주소 정보를 다시보겠습니다.\n",
    "(ggplot(shop_2018_01[:1000])\n",
    " + aes(x='경도', y='위도')\n",
    " + geom_point()\n",
    " + theme(text=element_text(family='NanumBarunGothic'))\n",
    ")\n"
   ]
  },
  {
   "cell_type": "code",
   "execution_count": null,
   "metadata": {},
   "outputs": [],
   "source": [
    "# 데이터를 보니 서울과 부산만 있는거 같다. \n",
    "# 그래서 서울과 그 외 데이터로 나눠봤다.\n",
    "shop_seoul = shop_2018_01.loc[shop_2018_01['도로명주소'].str.startswith('서울')]\n",
    "shop_except_seoul = shop_2018_01.loc[~shop_2018_01['도로명주소'].str.startswith('서울')]\n",
    "print(shop_seoul.shape)\n",
    "print(shop_except_seoul.shape)"
   ]
  },
  {
   "cell_type": "code",
   "execution_count": null,
   "metadata": {},
   "outputs": [],
   "source": [
    "# Pandas 의 plot 으로 위도와 경도를 산점도로 그려봅니다.\n",
    "shop_seoul.plot.scatter(x='경도', y='위도')"
   ]
  },
  {
   "cell_type": "code",
   "execution_count": null,
   "metadata": {},
   "outputs": [],
   "source": [
    "plt.figure(figsize=(12, 12))\n",
    "sns.scatterplot(data=shop_seoul, x='경도', y='위도', hue='구군', \n",
    "                alpha='auto')"
   ]
  },
  {
   "cell_type": "code",
   "execution_count": null,
   "metadata": {},
   "outputs": [],
   "source": [
    "# 서울만 찍어봤더니 서울지도 비슷하게 나온다\n",
    "# (ggplot(shop_seoul)\n",
    "#  + aes(x='경도', y='위도')\n",
    "#  + geom_point(color='black', alpha=0.2, size=0.2)\n",
    "#  + theme(text=element_text(family='NanumBarunGothic'))\n",
    "# )"
   ]
  },
  {
   "cell_type": "code",
   "execution_count": null,
   "metadata": {},
   "outputs": [],
   "source": [
    "shop_2018_01['도로명주소'].head()"
   ]
  },
  {
   "cell_type": "code",
   "execution_count": null,
   "metadata": {},
   "outputs": [],
   "source": [
    "print(shop_2018_01.shape)\n",
    "shop_2018_01['시도'] = shop_2018_01['도로명주소'].str.split(' ', expand=True)[0]\n",
    "shop_2018_01['구군'] = shop_2018_01['도로명주소'].str.split(' ', expand=True)[1]\n",
    "print(shop_2018_01.shape)\n",
    "shop_2018_01.columns"
   ]
  },
  {
   "cell_type": "code",
   "execution_count": null,
   "metadata": {},
   "outputs": [],
   "source": [
    "# 서울만 찍어봤더니 서울지도 비슷하게 나온다\n",
    "# 서울 DF을 다시 만들어 준다.\n",
    "shop_seoul = shop_2018_01.loc[shop_2018_01['도로명주소'].str.startswith('서울')]\n",
    "shop_seoul.shape"
   ]
  },
  {
   "cell_type": "code",
   "execution_count": null,
   "metadata": {},
   "outputs": [],
   "source": [
    "# (ggplot(shop_seoul)\n",
    "#  + aes(x='경도', y='위도', color='구군')\n",
    "#  + geom_point(alpha=0.2, size=0.2)\n",
    "#  + theme(text=element_text(family='NanumBarunGothic'))\n",
    "#  + scale_fill_gradient(low = 'blue', high = 'green') \n",
    "# )"
   ]
  },
  {
   "cell_type": "code",
   "execution_count": null,
   "metadata": {},
   "outputs": [],
   "source": [
    "shop_seoul['상권업종대분류명'].value_counts()"
   ]
  },
  {
   "cell_type": "code",
   "execution_count": null,
   "metadata": {},
   "outputs": [],
   "source": [
    "(ggplot(shop_seoul)\n",
    " + aes(x='경도', y='위도', color='상권업종대분류명')\n",
    " + geom_point(alpha=0.2, size=0.2)\n",
    " + theme(text=element_text(family='NanumBarunGothic'))\n",
    " + scale_fill_gradient(low = 'blue', high = 'green') \n",
    ")"
   ]
  },
  {
   "cell_type": "markdown",
   "metadata": {},
   "source": [
    "## 학문/교육과 관련된 정보 보기"
   ]
  },
  {
   "cell_type": "code",
   "execution_count": null,
   "metadata": {},
   "outputs": [],
   "source": [
    "shop_seoul_edu = shop_seoul[shop_seoul['상권업종대분류명'] == '학문/교육']\n",
    "\n",
    "(ggplot(shop_seoul_edu)\n",
    " + aes(x='경도', y='위도', color='상권업종중분류명')\n",
    " + geom_point(size=0.2)\n",
    " + theme(text=element_text(family='NanumBarunGothic'))\n",
    " + scale_fill_gradient(low = 'blue', high = 'green') \n",
    ")"
   ]
  },
  {
   "cell_type": "markdown",
   "metadata": {},
   "source": [
    "## 부동산과 관련된 정보 보기"
   ]
  },
  {
   "cell_type": "code",
   "execution_count": null,
   "metadata": {},
   "outputs": [],
   "source": [
    "shop_seoul_edu = shop_seoul[shop_seoul['상권업종대분류명'] == '부동산']\n",
    "\n",
    "(ggplot(shop_seoul_edu)\n",
    " + aes(x='경도', y='위도', color='상권업종중분류명')\n",
    " + geom_point(size=0.2)\n",
    " + theme(text=element_text(family='NanumBarunGothic'))\n",
    " + scale_fill_gradient(low = 'blue', high = 'green') \n",
    ")"
   ]
  },
  {
   "cell_type": "markdown",
   "metadata": {},
   "source": [
    "### 학원-컴퓨터"
   ]
  },
  {
   "cell_type": "code",
   "execution_count": null,
   "metadata": {},
   "outputs": [],
   "source": [
    "shop_seoul_edu = shop_seoul.loc[shop_seoul['상권업종중분류명'] == '학원-컴퓨터']\n",
    "\n",
    "# (ggplot(shop_seoul_edu)\n",
    "#  + aes(x='경도', y='위도', color='상권업종중분류명')\n",
    "#  + geom_point()\n",
    "#  + theme(text=element_text(family='NanumBarunGothic'))\n",
    "#  + scale_fill_gradient(low = 'blue', high = 'green') \n",
    "# )\n",
    "\n",
    "plt.figure(figsize=(12, 12))\n",
    "sns.scatterplot(data=shop_seoul_edu, x='경도', y='위도', hue='상권업종중분류명', \n",
    "                alpha='auto')"
   ]
  },
  {
   "cell_type": "code",
   "execution_count": null,
   "metadata": {},
   "outputs": [],
   "source": [
    "import folium\n",
    "\n",
    "def show_marker_map(geo_df):\n",
    "    map = folium.Map(location=[geo_df['위도'].mean(), geo_df['경도'].mean()], \n",
    "                     zoom_start=12, tiles='Stamen Terrain')\n",
    "\n",
    "    for n in geo_df.index:\n",
    "        shop_name = geo_df.loc[n, '상호명'] + ' - ' + geo_df.loc[n, '도로명주소']\n",
    "        folium.Marker([geo_df.loc[n, '위도'], \n",
    "                       geo_df.loc[n, '경도']], \n",
    "                      popup=shop_name).add_to(map)\n",
    "\n",
    "    return map"
   ]
  },
  {
   "cell_type": "code",
   "execution_count": null,
   "metadata": {},
   "outputs": [],
   "source": [
    "show_marker_map(shop_seoul_edu)"
   ]
  },
  {
   "cell_type": "markdown",
   "metadata": {},
   "source": [
    "#### 편의점 카페 분포 보기"
   ]
  },
  {
   "cell_type": "code",
   "execution_count": null,
   "metadata": {},
   "outputs": [],
   "source": [
    "shop_seoul_eat = shop_seoul[shop_seoul['상권업종중분류명'] == '커피점/카페']\n",
    "\n",
    "(ggplot(shop_seoul_eat)\n",
    " + aes(x='경도', y='위도', color='구군')\n",
    " + geom_point(size=0.7)\n",
    " + theme(text=element_text(family='NanumBarunGothic'))\n",
    " + scale_fill_gradient(low = 'blue', high = 'green') \n",
    ")"
   ]
  },
  {
   "cell_type": "code",
   "execution_count": null,
   "metadata": {},
   "outputs": [],
   "source": [
    "shop_seoul_eat.shape"
   ]
  },
  {
   "cell_type": "code",
   "execution_count": null,
   "metadata": {},
   "outputs": [],
   "source": [
    "geo_df = shop_seoul_eat[shop_seoul_eat[\"구군\"] == \"중구\"]\n",
    "\n",
    "map = folium.Map(location=[geo_df['위도'].mean(), \n",
    "                           geo_df['경도'].mean()], \n",
    "                 zoom_start=16, tiles='Stamen Terrain')\n",
    "\n",
    "for n in geo_df.index:\n",
    "    shop_name = geo_df.loc[n, '상호명'] + ' - ' + geo_df.loc[n, '도로명주소']\n",
    "    folium.Marker([geo_df.loc[n, '위도'], geo_df.loc[n, '경도']], \n",
    "                  popup=shop_name).add_to(map)\n",
    "\n",
    "map"
   ]
  },
  {
   "cell_type": "markdown",
   "metadata": {},
   "source": [
    "## 서울 외 지역 보기"
   ]
  },
  {
   "cell_type": "code",
   "execution_count": null,
   "metadata": {},
   "outputs": [],
   "source": [
    "# 부산만 있는거 같습니다.\n",
    "# 서울만 제외한 나머지 지역으로 DF을 다시 생성해 줍니다.\n",
    "shop_except_seoul = shop_2018_01.loc[~shop_2018_01['도로명주소'].str.startswith('서울')]\n",
    "(ggplot(shop_except_seoul)\n",
    " + aes(x='경도', y='위도', color='구군')\n",
    " + geom_point(size=0.7)\n",
    " + theme(text=element_text(family='NanumBarunGothic'))\n",
    ")"
   ]
  },
  {
   "cell_type": "code",
   "execution_count": null,
   "metadata": {},
   "outputs": [],
   "source": []
  }
 ],
 "metadata": {
  "kernelspec": {
   "display_name": "Python 3",
   "language": "python",
   "name": "python3"
  },
  "language_info": {
   "codemirror_mode": {
    "name": "ipython",
    "version": 3
   },
   "file_extension": ".py",
   "mimetype": "text/x-python",
   "name": "python",
   "nbconvert_exporter": "python",
   "pygments_lexer": "ipython3",
   "version": "3.6.1"
  },
  "varInspector": {
   "cols": {
    "lenName": 16,
    "lenType": 16,
    "lenVar": 40
   },
   "kernels_config": {
    "python": {
     "delete_cmd_postfix": "",
     "delete_cmd_prefix": "del ",
     "library": "var_list.py",
     "varRefreshCmd": "print(var_dic_list())"
    },
    "r": {
     "delete_cmd_postfix": ") ",
     "delete_cmd_prefix": "rm(",
     "library": "var_list.r",
     "varRefreshCmd": "cat(var_dic_list()) "
    }
   },
   "types_to_exclude": [
    "module",
    "function",
    "builtin_function_or_method",
    "instance",
    "_Feature"
   ],
   "window_display": false
  }
 },
 "nbformat": 4,
 "nbformat_minor": 2
}
